{
 "cells": [
  {
   "cell_type": "code",
   "execution_count": 2,
   "id": "9207572a-d415-49e0-bb05-9e8b3ae54c44",
   "metadata": {},
   "outputs": [],
   "source": [
    "from society import Society\n",
    "import matplotlib.pyplot as plt\n",
    "import numpy as np"
   ]
  },
  {
   "cell_type": "code",
   "execution_count": 11,
   "id": "58ca7347-02e3-47dd-bf47-1be072ad31eb",
   "metadata": {},
   "outputs": [
    {
     "name": "stdout",
     "output_type": "stream",
     "text": [
      "max_days\n",
      "max_days\n",
      "max_days\n",
      "max_days\n",
      "max_days\n",
      "max_days\n",
      "max_days\n",
      "max_days\n",
      "max_days\n",
      "max_days\n",
      "Wall time: 30.3 s\n"
     ]
    },
    {
     "data": {
      "text/plain": [
       "[<matplotlib.lines.Line2D at 0x19a7408c9d0>]"
      ]
     },
     "execution_count": 11,
     "metadata": {},
     "output_type": "execute_result"
    },
    {
     "data": {
      "image/png": "[encoded data removed]",
      "text/plain": [
       "<Figure size 432x288 with 1 Axes>"
      ]
     },
     "metadata": {
      "needs_background": "light"
     },
     "output_type": "display_data"
    }
   ],
   "source": [
    "%%time\n",
    "\n",
    "# Creative_density\n",
    "\n",
    "# meta parameters\n",
    "space_size = 41 # prime number provides opportunity for everyone\n",
    "agents_density = 0.4\n",
    "init_step = tuple([1, 3])\n",
    "field_range = 5\n",
    "field_force = 1\n",
    "\n",
    "max_days = 2000\n",
    "tolerance = 0.01 # percentage of agents left\n",
    "iterations_per_example = 10\n",
    "\n",
    "creative_density_list = np.linspace(0, 1, 100)\n",
    "X = []\n",
    "for i in creative_density_list:\n",
    "    X.extend([i]*iterations_per_example)\n",
    "Y = []\n",
    "for society in [Society(space_size=space_size, agents_density=agents_density\n",
    "                        , field_range=field_range, field_force=field_force, init_step=init_step\n",
    "                        , creative_density=c) for c in creative_density_list]:\n",
    "    for _ in range(iterations_per_example):\n",
    "        society.new_society()\n",
    "        global sum_days\n",
    "        sum_days = 0\n",
    "        _counter = 0\n",
    "        while society.get_all_progress() < (1 - tolerance) and _counter < max_days:\n",
    "            society.next_step()\n",
    "            _counter += 1\n",
    "        sum_days += society.day\n",
    "        Y.append(society.day)\n",
    "        if _counter==max_days:\n",
    "            print(\"max_days\")\n",
    "        \n",
    "plt.plot(X, Y, \"o\", markersize=1)"
   ]
  },
  {
   "cell_type": "code",
   "execution_count": 4,
   "id": "eb61b9c2-4bb8-4b6d-98b5-bf884b703f8b",
   "metadata": {},
   "outputs": [
    {
     "name": "stdout",
     "output_type": "stream",
     "text": [
      "Wall time: 29.7 s\n"
     ]
    },
    {
     "data": {
      "text/plain": [
       "[<matplotlib.lines.Line2D at 0x25dee39e220>]"
      ]
     },
     "execution_count": 4,
     "metadata": {},
     "output_type": "execute_result"
    },
    {
     "data": {
      "image/png": "[encoded data removed]",
      "text/plain": [
       "<Figure size 432x288 with 1 Axes>"
      ]
     },
     "metadata": {
      "needs_background": "light"
     },
     "output_type": "display_data"
    }
   ],
   "source": [
    "%%time\n",
    "\n",
    "# Agent density\n",
    "\n",
    "# meta parameters\n",
    "space_size = 41 # prime number provides opportunity for everyone\n",
    "creative_density = 0.5\n",
    "init_step = tuple([1, 3])\n",
    "field_range = 5\n",
    "field_force = 1\n",
    "\n",
    "max_days = 2000\n",
    "tolerance = 0.01 # percentage of agents left\n",
    "iterations_per_example = 10\n",
    "\n",
    "agent_density_list = np.linspace(0, 1, 100)\n",
    "X = agent_density_list\n",
    "Y = []\n",
    "for society in [Society(space_size=space_size, creative_density=creative_density\n",
    "                        , field_range=field_range, field_force=field_force, init_step=init_step\n",
    "                        , agents_density=d) for d in agent_density_list]:\n",
    "    for _ in range(iterations_per_example):\n",
    "        society.new_society()\n",
    "        sum_days = 0\n",
    "        _counter = 0\n",
    "        while society.get_all_progress() < (1 - tolerance) and _counter < max_days:\n",
    "            society.next_step()\n",
    "            _counter += 1\n",
    "        sum_days += society.day\n",
    "    Y.append(sum_days/iterations_per_example)\n",
    "        \n",
    "plt.plot(X, Y, \"o\", markersize=1)"
   ]
  },
  {
   "cell_type": "code",
   "execution_count": null,
   "id": "8fd49fe8-72c7-48b8-9187-2243e1bc8bc8",
   "metadata": {},
   "outputs": [],
   "source": []
  }
 ],
 "metadata": {
  "kernelspec": {
   "display_name": "Python 3 (ipykernel)",
   "language": "python",
   "name": "python3"
  },
  "language_info": {
   "codemirror_mode": {
    "name": "ipython",
    "version": 3
   },
   "file_extension": ".py",
   "mimetype": "text/x-python",
   "name": "python",
   "nbconvert_exporter": "python",
   "pygments_lexer": "ipython3",
   "version": "3.9.7"
  }
 },
 "nbformat": 4,
 "nbformat_minor": 5
}
