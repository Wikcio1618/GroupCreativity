{
 "cells": [
  {
   "cell_type": "code",
   "execution_count": 5,
   "id": "bca3afa0-2e8c-4424-a93b-f60bdcf964e7",
   "metadata": {},
   "outputs": [],
   "source": [
    "from math import ceil, floor\n",
    "import matplotlib.pyplot as plt\n",
    "import numpy as np\n",
    "from scipy.special import binom\n",
    "from random import uniform"
   ]
  },
  {
   "cell_type": "code",
   "execution_count": 6,
   "id": "f8003632-36dc-460c-8c9e-9fa5977444bb",
   "metadata": {},
   "outputs": [],
   "source": [
    "def prob(n, N, p):\n",
    "    if n == 0:\n",
    "        return 1\n",
    "    \n",
    "    elif n > 0:\n",
    "        prob = 0\n",
    "        _i = n\n",
    "        while _i < N:\n",
    "            p = 0\n",
    "            for l in range(N-_i):\n",
    "                 p += binom(N-n, l) * prob_RL(l, N-n-l) * binom(n, (_i - n)/2) * prob_RL(r=(_i+n)/2, l=(_i-n)/2)\n",
    "            prob += p\n",
    "            \n",
    "            _i += 2\n",
    "            \n",
    "        return prob \n",
    "            \n",
    "def prob_RL(r, l):\n",
    "    return p**r * (1-p)**l"
   ]
  },
  {
   "cell_type": "code",
   "execution_count": 7,
   "id": "82b13b8c-cc65-4a70-a239-0b42c131eea8",
   "metadata": {},
   "outputs": [],
   "source": [
    "def prob_rand(n, N, p):\n",
    "    num_reached = 0\n",
    "    for _ in range(10000):\n",
    "        place=0\n",
    "        for _ in range(N):\n",
    "            if place == n:\n",
    "                num_reached += 1\n",
    "                break\n",
    "            chance = uniform(0,1)\n",
    "            if chance < p:\n",
    "                place += 1\n",
    "            else:\n",
    "                place += -1\n",
    "    return num_reached/10000"
   ]
  },
  {
   "cell_type": "code",
   "execution_count": 8,
   "id": "0c5f32e7-fde9-431e-b0c3-811c21ef14b8",
   "metadata": {},
   "outputs": [
    {
     "name": "stdout",
     "output_type": "stream",
     "text": [
      "Wall time: 20.5 s\n"
     ]
    },
    {
     "data": {
      "text/plain": [
       "<matplotlib.legend.Legend at 0x1caf0b5dbe0>"
      ]
     },
     "execution_count": 8,
     "metadata": {},
     "output_type": "execute_result"
    },
    {
     "data": {
      "image/png": "[encoded data removed]",
      "text/plain": [
       "<Figure size 432x288 with 1 Axes>"
      ]
     },
     "metadata": {
      "needs_background": "light"
     },
     "output_type": "display_data"
    }
   ],
   "source": [
    "%%time\n",
    "\n",
    "N = 30\n",
    "p = 0.5\n",
    "\n",
    "X = range(-N, N)\n",
    "Y = [prob(n, N, 0.5) for n in X]\n",
    "Y_rand1 = [prob_rand(n, N, 0.5) for n in X]\n",
    "Y_rand2 = [prob_rand(n, N, 0.7) for n in X]\n",
    "Y_rand3 = [prob_rand(n, N, 0.9) for n in X]\n",
    "# plt.plot(X, Y, \"x\", markersize=2)\n",
    "plt.plot(X, Y_rand1, \"o\", markersize=2, label=\"0.5\")\n",
    "plt.plot(X, Y_rand2, \"o\", markersize=2, label=\"0.7\")\n",
    "plt.plot(X, Y_rand3, \"o\", markersize=2, label=\"0.9\")\n",
    "plt.legend()"
   ]
  },
  {
   "cell_type": "code",
   "execution_count": null,
   "id": "253ad424-78a9-4440-9773-ab32f157ac33",
   "metadata": {},
   "outputs": [],
   "source": []
  }
 ],
 "metadata": {
  "kernelspec": {
   "display_name": "Python 3 (ipykernel)",
   "language": "python",
   "name": "python3"
  },
  "language_info": {
   "codemirror_mode": {
    "name": "ipython",
    "version": 3
   },
   "file_extension": ".py",
   "mimetype": "text/x-python",
   "name": "python",
   "nbconvert_exporter": "python",
   "pygments_lexer": "ipython3",
   "version": "3.9.7"
  }
 },
 "nbformat": 4,
 "nbformat_minor": 5
}
