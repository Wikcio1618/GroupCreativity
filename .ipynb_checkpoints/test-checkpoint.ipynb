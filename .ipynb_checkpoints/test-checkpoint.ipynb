{
 "cells": [
  {
   "cell_type": "code",
   "execution_count": 1,
   "id": "9207572a-d415-49e0-bb05-9e8b3ae54c44",
   "metadata": {},
   "outputs": [],
   "source": [
    "from society import Society\n",
    "import matplotlib.pyplot as plt\n",
    "import numpy as np"
   ]
  },
  {
   "cell_type": "code",
   "execution_count": null,
   "id": "58ca7347-02e3-47dd-bf47-1be072ad31eb",
   "metadata": {},
   "outputs": [],
   "source": [
    "%%time\n",
    "\n",
    "# Creative_density\n",
    "\n",
    "# meta parameters\n",
    "space_size = 41 # prime number provides opportunity for everyone\n",
    "agents_density = 0.4\n",
    "field_range = 5\n",
    "field_force = 0.05 # may be important\n",
    "\n",
    "max_days = 2000\n",
    "tolerance = 0.01 # percentage of agents left\n",
    "iterations_per_example = 50\n",
    "\n",
    "creative_density_list = np.linspace(0, 1, 100)\n",
    "X = creative_density_list\n",
    "Y = []\n",
    "for society in [Society(space_size=space_size, agents_density=agents_density\n",
    "                        , field_range=field_range, field_force=field_force\n",
    "                        , creative_density=c) for c in creative_density_list]:\n",
    "    for _ in range(iterations_per_example):\n",
    "        society.new_society()\n",
    "        sum_days=0\n",
    "        _counter = 0\n",
    "        while society.get_all_progress() < (1 - tolerance) and _counter < max_days:\n",
    "            society.next_step()\n",
    "            _counter += 1\n",
    "        sum_days += society.day\n",
    "    Y.append(sum_days/iterations_per_example)\n",
    "\n",
    "    \n",
    "plt.plot(X, Y, \"o\", markersize=1)\n",
    "sublist = [Y[i:i+9] for i in range(0,100,10)]\n",
    "Y_new = []\n",
    "for s in sublist:\n",
    "    Y_new.append(sum(s)/len(s))\n",
    "X_new = np.linspace(0,0.9,10)\n",
    "plt.plot(X_new, Y_new, marker=\"o\", linestyle=\"-\", markersize=3)"
   ]
  },
  {
   "cell_type": "code",
   "execution_count": 5,
   "id": "eb61b9c2-4bb8-4b6d-98b5-bf884b703f8b",
   "metadata": {},
   "outputs": [
    {
     "name": "stdout",
     "output_type": "stream",
     "text": [
      "Wall time: 35.3 s\n"
     ]
    },
    {
     "data": {
      "text/plain": [
       "(array([389., 258., 149.,  91.,  52.,  27.,  17.,  12.,   1.,   4.]),\n",
       " array([   0.,  200.,  400.,  600.,  800., 1000., 1200., 1400., 1600.,\n",
       "        1800., 2000.]),\n",
       " <BarContainer object of 10 artists>)"
      ]
     },
     "execution_count": 5,
     "metadata": {},
     "output_type": "execute_result"
    },
    {
     "data": {
      "image/png": "[encoded data removed]",
      "text/plain": [
       "<Figure size 432x288 with 1 Axes>"
      ]
     },
     "metadata": {
      "needs_background": "light"
     },
     "output_type": "display_data"
    }
   ],
   "source": [
    "%%time\n",
    "\n",
    "# Agent density\n",
    "\n",
    "# meta parameters\n",
    "space_size = 41 # prime number provides opportunity for everyone\n",
    "creative_density = 0.5\n",
    "field_range = 5\n",
    "field_force = 0.05\n",
    "\n",
    "max_days = 2000\n",
    "tolerance = 0.01 # percentage of agents left\n",
    "iterations_per_example = 10\n",
    "\n",
    "agent_density_list = np.linspace(0, 1, 100)\n",
    "X = []\n",
    "for i in agent_density_list:\n",
    "    X.extend([i]*iterations_per_example)\n",
    "Y = []\n",
    "for society in [Society(space_size=space_size, creative_density=creative_density\n",
    "                        , field_range=field_range, field_force=field_force\n",
    "                        , agents_density=d) for d in agent_density_list]:\n",
    "    for _ in range(iterations_per_example):\n",
    "        society.new_society()\n",
    "        # sum_days = 0\n",
    "        _counter = 0\n",
    "        while society.get_all_progress() < (1 - tolerance) and _counter < max_days:\n",
    "            society.next_step()\n",
    "            _counter += 1\n",
    "        # sum_days += society.day\n",
    "        Y.append(society.day)\n",
    "        \n",
    "plt.hist(Y, bins=10)"
   ]
  },
  {
   "cell_type": "code",
   "execution_count": 5,
   "id": "8fd49fe8-72c7-48b8-9187-2243e1bc8bc8",
   "metadata": {},
   "outputs": [
    {
     "name": "stdout",
     "output_type": "stream",
     "text": [
      "Wall time: 11.3 s\n"
     ]
    },
    {
     "data": {
      "text/plain": [
       "[<matplotlib.lines.Line2D at 0x20c4000e7c0>]"
      ]
     },
     "execution_count": 5,
     "metadata": {},
     "output_type": "execute_result"
    },
    {
     "data": {
      "image/png": "[encoded data removed]",
      "text/plain": [
       "<Figure size 432x288 with 1 Axes>"
      ]
     },
     "metadata": {
      "needs_background": "light"
     },
     "output_type": "display_data"
    }
   ],
   "source": [
    "%%time\n",
    "\n",
    "# field force\n",
    "\n",
    "# meta parameters\n",
    "space_size = 41 # prime number provides opportunity for everyone\n",
    "agents_density = 0.4\n",
    "field_range = 5\n",
    "creative_density = 0.5\n",
    "\n",
    "max_days = 2000\n",
    "tolerance = 0.01 # percentage of agents left\n",
    "iterations_per_example = 10\n",
    "\n",
    "field_force_list = np.linspace(0.01, 0.5, 50)\n",
    "X = []\n",
    "for i in field_force_list:\n",
    "    X.extend([i]*iterations_per_example)\n",
    "Y = []\n",
    "for society in [Society(space_size=space_size, agents_density=agents_density\n",
    "                        , field_range=field_range, creative_density=creative_density\n",
    "                        , field_force=f) for f in field_force_list]:\n",
    "    for _ in range(iterations_per_example):\n",
    "        society.new_society()\n",
    "        _counter = 0\n",
    "        while society.get_all_progress() < (1 - tolerance) and _counter < max_days:\n",
    "            society.next_step()\n",
    "            _counter += 1\n",
    "        Y.append(society.day)\n",
    "        \n",
    "plt.plot(X, Y, \"o\", markersize=1)"
   ]
  },
  {
   "cell_type": "code",
   "execution_count": 14,
   "id": "415b68be-9698-46c8-8547-d2adbb96b2f8",
   "metadata": {},
   "outputs": [
    {
     "data": {
      "text/plain": [
       "[array([0.        , 1.01010101, 2.02020202, 3.03030303, 4.04040404,\n",
       "        5.05050505, 6.06060606, 7.07070707, 8.08080808]),\n",
       " array([10.1010101 , 11.11111111, 12.12121212, 13.13131313, 14.14141414,\n",
       "        15.15151515, 16.16161616, 17.17171717, 18.18181818]),\n",
       " array([20.2020202 , 21.21212121, 22.22222222, 23.23232323, 24.24242424,\n",
       "        25.25252525, 26.26262626, 27.27272727, 28.28282828]),\n",
       " array([30.3030303 , 31.31313131, 32.32323232, 33.33333333, 34.34343434,\n",
       "        35.35353535, 36.36363636, 37.37373737, 38.38383838]),\n",
       " array([40.4040404 , 41.41414141, 42.42424242, 43.43434343, 44.44444444,\n",
       "        45.45454545, 46.46464646, 47.47474747, 48.48484848]),\n",
       " array([50.50505051, 51.51515152, 52.52525253, 53.53535354, 54.54545455,\n",
       "        55.55555556, 56.56565657, 57.57575758, 58.58585859]),\n",
       " array([60.60606061, 61.61616162, 62.62626263, 63.63636364, 64.64646465,\n",
       "        65.65656566, 66.66666667, 67.67676768, 68.68686869]),\n",
       " array([70.70707071, 71.71717172, 72.72727273, 73.73737374, 74.74747475,\n",
       "        75.75757576, 76.76767677, 77.77777778, 78.78787879]),\n",
       " array([80.80808081, 81.81818182, 82.82828283, 83.83838384, 84.84848485,\n",
       "        85.85858586, 86.86868687, 87.87878788, 88.88888889]),\n",
       " array([90.90909091, 91.91919192, 92.92929293, 93.93939394, 94.94949495,\n",
       "        95.95959596, 96.96969697, 97.97979798, 98.98989899])]"
      ]
     },
     "execution_count": 14,
     "metadata": {},
     "output_type": "execute_result"
    }
   ],
   "source": [
    "l = np.linspace(0,100,100)\n",
    "l_new = [l[i:i+9] for i in range (0,100,10)]\n",
    "l_new"
   ]
  },
  {
   "cell_type": "code",
   "execution_count": 30,
   "id": "e0175faa-3b57-44f5-9847-6118068daf66",
   "metadata": {},
   "outputs": [
    {
     "data": {
      "text/plain": [
       "array([0. , 0.1, 0.2, 0.3, 0.4, 0.5, 0.6, 0.7, 0.8, 0.9])"
      ]
     },
     "execution_count": 30,
     "metadata": {},
     "output_type": "execute_result"
    }
   ],
   "source": [
    "np.linspace(0, 0.9, 10)"
   ]
  },
  {
   "cell_type": "code",
   "execution_count": 22,
   "id": "398058a7-3d85-4bd0-acd2-cd57805bca35",
   "metadata": {},
   "outputs": [
    {
     "data": {
      "text/plain": [
       "array([ 0., 10., 20., 30., 40., 50., 60., 70., 80., 90.])"
      ]
     },
     "execution_count": 22,
     "metadata": {},
     "output_type": "execute_result"
    }
   ],
   "source": [
    "np.linspace(0,90,10)"
   ]
  },
  {
   "cell_type": "code",
   "execution_count": null,
   "id": "d1b3a75f-ef03-4f12-a286-e6e0ae614b0b",
   "metadata": {},
   "outputs": [],
   "source": []
  }
 ],
 "metadata": {
  "kernelspec": {
   "display_name": "Python 3 (ipykernel)",
   "language": "python",
   "name": "python3"
  },
  "language_info": {
   "codemirror_mode": {
    "name": "ipython",
    "version": 3
   },
   "file_extension": ".py",
   "mimetype": "text/x-python",
   "name": "python",
   "nbconvert_exporter": "python",
   "pygments_lexer": "ipython3",
   "version": "3.9.7"
  }
 },
 "nbformat": 4,
 "nbformat_minor": 5
}
